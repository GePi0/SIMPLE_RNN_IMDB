{
 "cells": [
  {
   "cell_type": "code",
   "execution_count": 17,
   "id": "78b3ef76",
   "metadata": {},
   "outputs": [],
   "source": [
    "import numpy as np\n",
    "import tensorflow as tf\n",
    "from tensorflow.keras.datasets import imdb\n",
    "from tensorflow.keras.preprocessing import sequence\n",
    "from tensorflow.keras.models import load_model"
   ]
  },
  {
   "cell_type": "code",
   "execution_count": 18,
   "id": "8a013bfc",
   "metadata": {},
   "outputs": [],
   "source": [
    "word_index=imdb.get_word_index()\n",
    "reverse_word_index={value: key for key, value in word_index.items()}"
   ]
  },
  {
   "cell_type": "code",
   "execution_count": 19,
   "id": "a3e00fcc",
   "metadata": {},
   "outputs": [
    {
     "name": "stderr",
     "output_type": "stream",
     "text": [
      "WARNING:absl:Compiled the loaded model, but the compiled metrics have yet to be built. `model.compile_metrics` will be empty until you train or evaluate the model.\n"
     ]
    },
    {
     "data": {
      "text/html": [
       "<pre style=\"white-space:pre;overflow-x:auto;line-height:normal;font-family:Menlo,'DejaVu Sans Mono',consolas,'Courier New',monospace\"><span style=\"font-weight: bold\">Model: \"sequential\"</span>\n",
       "</pre>\n"
      ],
      "text/plain": [
       "\u001b[1mModel: \"sequential\"\u001b[0m\n"
      ]
     },
     "metadata": {},
     "output_type": "display_data"
    },
    {
     "data": {
      "text/html": [
       "<pre style=\"white-space:pre;overflow-x:auto;line-height:normal;font-family:Menlo,'DejaVu Sans Mono',consolas,'Courier New',monospace\">┏━━━━━━━━━━━━━━━━━━━━━━━━━━━━━━━━━┳━━━━━━━━━━━━━━━━━━━━━━━━┳━━━━━━━━━━━━━━━┓\n",
       "┃<span style=\"font-weight: bold\"> Layer (type)                    </span>┃<span style=\"font-weight: bold\"> Output Shape           </span>┃<span style=\"font-weight: bold\">       Param # </span>┃\n",
       "┡━━━━━━━━━━━━━━━━━━━━━━━━━━━━━━━━━╇━━━━━━━━━━━━━━━━━━━━━━━━╇━━━━━━━━━━━━━━━┩\n",
       "│ embedding (<span style=\"color: #0087ff; text-decoration-color: #0087ff\">Embedding</span>)           │ (<span style=\"color: #00d7ff; text-decoration-color: #00d7ff\">None</span>, <span style=\"color: #00af00; text-decoration-color: #00af00\">500</span>, <span style=\"color: #00af00; text-decoration-color: #00af00\">128</span>)       │     <span style=\"color: #00af00; text-decoration-color: #00af00\">1,280,000</span> │\n",
       "├─────────────────────────────────┼────────────────────────┼───────────────┤\n",
       "│ simple_rnn (<span style=\"color: #0087ff; text-decoration-color: #0087ff\">SimpleRNN</span>)          │ (<span style=\"color: #00d7ff; text-decoration-color: #00d7ff\">None</span>, <span style=\"color: #00af00; text-decoration-color: #00af00\">128</span>)            │        <span style=\"color: #00af00; text-decoration-color: #00af00\">32,896</span> │\n",
       "├─────────────────────────────────┼────────────────────────┼───────────────┤\n",
       "│ dense (<span style=\"color: #0087ff; text-decoration-color: #0087ff\">Dense</span>)                   │ (<span style=\"color: #00d7ff; text-decoration-color: #00d7ff\">None</span>, <span style=\"color: #00af00; text-decoration-color: #00af00\">1</span>)              │           <span style=\"color: #00af00; text-decoration-color: #00af00\">129</span> │\n",
       "└─────────────────────────────────┴────────────────────────┴───────────────┘\n",
       "</pre>\n"
      ],
      "text/plain": [
       "┏━━━━━━━━━━━━━━━━━━━━━━━━━━━━━━━━━┳━━━━━━━━━━━━━━━━━━━━━━━━┳━━━━━━━━━━━━━━━┓\n",
       "┃\u001b[1m \u001b[0m\u001b[1mLayer (type)                   \u001b[0m\u001b[1m \u001b[0m┃\u001b[1m \u001b[0m\u001b[1mOutput Shape          \u001b[0m\u001b[1m \u001b[0m┃\u001b[1m \u001b[0m\u001b[1m      Param #\u001b[0m\u001b[1m \u001b[0m┃\n",
       "┡━━━━━━━━━━━━━━━━━━━━━━━━━━━━━━━━━╇━━━━━━━━━━━━━━━━━━━━━━━━╇━━━━━━━━━━━━━━━┩\n",
       "│ embedding (\u001b[38;5;33mEmbedding\u001b[0m)           │ (\u001b[38;5;45mNone\u001b[0m, \u001b[38;5;34m500\u001b[0m, \u001b[38;5;34m128\u001b[0m)       │     \u001b[38;5;34m1,280,000\u001b[0m │\n",
       "├─────────────────────────────────┼────────────────────────┼───────────────┤\n",
       "│ simple_rnn (\u001b[38;5;33mSimpleRNN\u001b[0m)          │ (\u001b[38;5;45mNone\u001b[0m, \u001b[38;5;34m128\u001b[0m)            │        \u001b[38;5;34m32,896\u001b[0m │\n",
       "├─────────────────────────────────┼────────────────────────┼───────────────┤\n",
       "│ dense (\u001b[38;5;33mDense\u001b[0m)                   │ (\u001b[38;5;45mNone\u001b[0m, \u001b[38;5;34m1\u001b[0m)              │           \u001b[38;5;34m129\u001b[0m │\n",
       "└─────────────────────────────────┴────────────────────────┴───────────────┘\n"
      ]
     },
     "metadata": {},
     "output_type": "display_data"
    },
    {
     "data": {
      "text/html": [
       "<pre style=\"white-space:pre;overflow-x:auto;line-height:normal;font-family:Menlo,'DejaVu Sans Mono',consolas,'Courier New',monospace\"><span style=\"font-weight: bold\"> Total params: </span><span style=\"color: #00af00; text-decoration-color: #00af00\">1,313,027</span> (5.01 MB)\n",
       "</pre>\n"
      ],
      "text/plain": [
       "\u001b[1m Total params: \u001b[0m\u001b[38;5;34m1,313,027\u001b[0m (5.01 MB)\n"
      ]
     },
     "metadata": {},
     "output_type": "display_data"
    },
    {
     "data": {
      "text/html": [
       "<pre style=\"white-space:pre;overflow-x:auto;line-height:normal;font-family:Menlo,'DejaVu Sans Mono',consolas,'Courier New',monospace\"><span style=\"font-weight: bold\"> Trainable params: </span><span style=\"color: #00af00; text-decoration-color: #00af00\">1,313,025</span> (5.01 MB)\n",
       "</pre>\n"
      ],
      "text/plain": [
       "\u001b[1m Trainable params: \u001b[0m\u001b[38;5;34m1,313,025\u001b[0m (5.01 MB)\n"
      ]
     },
     "metadata": {},
     "output_type": "display_data"
    },
    {
     "data": {
      "text/html": [
       "<pre style=\"white-space:pre;overflow-x:auto;line-height:normal;font-family:Menlo,'DejaVu Sans Mono',consolas,'Courier New',monospace\"><span style=\"font-weight: bold\"> Non-trainable params: </span><span style=\"color: #00af00; text-decoration-color: #00af00\">0</span> (0.00 B)\n",
       "</pre>\n"
      ],
      "text/plain": [
       "\u001b[1m Non-trainable params: \u001b[0m\u001b[38;5;34m0\u001b[0m (0.00 B)\n"
      ]
     },
     "metadata": {},
     "output_type": "display_data"
    },
    {
     "data": {
      "text/html": [
       "<pre style=\"white-space:pre;overflow-x:auto;line-height:normal;font-family:Menlo,'DejaVu Sans Mono',consolas,'Courier New',monospace\"><span style=\"font-weight: bold\"> Optimizer params: </span><span style=\"color: #00af00; text-decoration-color: #00af00\">2</span> (12.00 B)\n",
       "</pre>\n"
      ],
      "text/plain": [
       "\u001b[1m Optimizer params: \u001b[0m\u001b[38;5;34m2\u001b[0m (12.00 B)\n"
      ]
     },
     "metadata": {},
     "output_type": "display_data"
    }
   ],
   "source": [
    "model = load_model(\"simple_rnn_imdb.h5\")\n",
    "model.summary()"
   ]
  },
  {
   "cell_type": "code",
   "execution_count": 20,
   "id": "c9e51ec4",
   "metadata": {},
   "outputs": [
    {
     "data": {
      "text/plain": [
       "[array([[-1.43736705e-01, -7.86424428e-02, -1.22552240e+00, ...,\n",
       "          8.47963542e-02, -6.27850369e-02, -5.31268194e-02],\n",
       "        [ 4.52349894e-03, -6.30546734e-02, -1.23881646e-01, ...,\n",
       "          7.16814399e-02, -3.86084691e-02, -2.96134111e-02],\n",
       "        [ 3.96761782e-02,  9.79573578e-02, -6.52546436e-02, ...,\n",
       "         -4.47450355e-02, -3.42531805e-03, -8.42114389e-02],\n",
       "        ...,\n",
       "        [ 7.46417120e-02, -4.88943001e-03, -1.21261101e-05, ...,\n",
       "          7.15984330e-02, -7.22891244e-04,  2.92261504e-02],\n",
       "        [-3.68254371e-02,  2.73131598e-02,  7.89644495e-02, ...,\n",
       "         -1.25356903e-02, -3.38487402e-02, -3.35977897e-02],\n",
       "        [ 2.98486184e-02,  3.28309797e-02,  1.38778507e-03, ...,\n",
       "          2.92804893e-02,  6.97332397e-02,  9.46995318e-02]], dtype=float32),\n",
       " array([[ 0.0974138 , -0.10905385,  0.18932708, ...,  0.06079477,\n",
       "         -0.00219679, -0.1646104 ],\n",
       "        [ 0.07068722,  0.15759614,  0.126788  , ..., -0.08508359,\n",
       "          0.01082747, -0.03620056],\n",
       "        [-0.02227034, -0.0657992 , -0.05284664, ...,  0.05547317,\n",
       "         -0.02627997,  0.08308832],\n",
       "        ...,\n",
       "        [ 0.15545207,  0.09897016,  0.01199383, ...,  0.1459248 ,\n",
       "          0.0824054 , -0.06947151],\n",
       "        [ 0.14811319, -0.08404202,  0.09092981, ..., -0.15693387,\n",
       "          0.01125293, -0.0399873 ],\n",
       "        [ 0.04740985, -0.03634432, -0.09784815, ...,  0.10028541,\n",
       "          0.13064182,  0.16483502]], dtype=float32),\n",
       " array([[ 1.4336707e-01,  6.6890709e-02, -4.6896290e-02, ...,\n",
       "         -3.3955075e-02, -1.1670244e-01,  3.4158500e-03],\n",
       "        [ 7.6181732e-02,  1.9488288e-01, -1.0752247e-02, ...,\n",
       "         -8.3859198e-02, -4.2347219e-02,  4.1070250e-03],\n",
       "        [-9.0409406e-02, -3.7708804e-02, -3.4130495e-02, ...,\n",
       "         -9.3781948e-02,  1.2668944e-02,  2.2914760e-02],\n",
       "        ...,\n",
       "        [-2.4355198e-01,  7.7080600e-02,  2.5786599e-02, ...,\n",
       "          1.3969527e-01,  5.5272512e-02, -5.0169751e-02],\n",
       "        [ 1.2388095e-02,  2.7004285e-02, -7.5199559e-02, ...,\n",
       "          1.7344731e-01,  1.1413728e-03,  6.0435361e-03],\n",
       "        [-9.4687149e-02, -3.0892195e-02, -9.3139336e-02, ...,\n",
       "         -8.7445624e-02, -6.5093380e-05, -1.1371335e-01]], dtype=float32),\n",
       " array([-0.05829109, -0.06527001,  0.02227736, -0.05598881, -0.05373737,\n",
       "        -0.05077798, -0.04583766,  0.04054499, -0.04470146,  0.06145301,\n",
       "        -0.05179027, -0.00982603,  0.0369669 , -0.04594068, -0.01490372,\n",
       "        -0.01980506, -0.02091079,  0.02101679, -0.04305765, -0.04498467,\n",
       "        -0.02290654,  0.01438229, -0.01396223,  0.01831513, -0.00685833,\n",
       "         0.01156336, -0.07442246, -0.00382924,  0.00338854, -0.02381638,\n",
       "        -0.05812458,  0.04936878, -0.04658276, -0.06216652,  0.05878943,\n",
       "        -0.04494077, -0.00254091, -0.0758673 , -0.02743078, -0.02900108,\n",
       "        -0.0689077 ,  0.03388767, -0.04254638, -0.07534616, -0.07644002,\n",
       "        -0.10113656, -0.0116275 , -0.00456727,  0.020418  , -0.03158801,\n",
       "        -0.04103284, -0.02385504, -0.05820224,  0.01271588, -0.04519331,\n",
       "        -0.01052991,  0.03875351, -0.06019927, -0.01337757, -0.06318766,\n",
       "        -0.02153071, -0.04408362, -0.05743855, -0.04944222, -0.02897481,\n",
       "        -0.05144783, -0.03077363, -0.04490456,  0.00861863, -0.05321768,\n",
       "        -0.01863242, -0.02781777,  0.05059183,  0.01660049, -0.01193352,\n",
       "         0.01196881, -0.00555582,  0.02188036, -0.0380306 , -0.00871875,\n",
       "         0.02727417, -0.02400715, -0.03615192, -0.02223099, -0.01163393,\n",
       "        -0.06815073, -0.03923969,  0.00940195, -0.0411551 ,  0.00365121,\n",
       "        -0.0507339 ,  0.02100481,  0.00962835, -0.05505295,  0.037013  ,\n",
       "        -0.06777193, -0.04821555, -0.04330403, -0.0042783 ,  0.01068656,\n",
       "        -0.01881395, -0.03961428, -0.06906353, -0.06161656, -0.05163422,\n",
       "        -0.01275451,  0.02864761,  0.03369385, -0.02104959, -0.01260087,\n",
       "         0.01182216,  0.03256242,  0.04160537,  0.00201969, -0.0571367 ,\n",
       "         0.06606947, -0.06015427, -0.03996892, -0.0584558 ,  0.03797505,\n",
       "        -0.00993529,  0.03411493,  0.04022698, -0.00424129, -0.03603154,\n",
       "        -0.0096458 , -0.03063847, -0.02481515], dtype=float32),\n",
       " array([[ 3.72530818e-02],\n",
       "        [-9.67864543e-02],\n",
       "        [-8.06190133e-01],\n",
       "        [ 1.21354267e-01],\n",
       "        [ 1.01103716e-01],\n",
       "        [-6.51214942e-02],\n",
       "        [ 2.42507514e-02],\n",
       "        [-2.95745917e-02],\n",
       "        [-2.91047543e-01],\n",
       "        [ 5.40295124e-01],\n",
       "        [ 6.24857485e-01],\n",
       "        [-1.22795209e-01],\n",
       "        [ 1.40284464e-01],\n",
       "        [ 2.55176015e-02],\n",
       "        [ 2.22907707e-01],\n",
       "        [ 2.25999914e-02],\n",
       "        [ 1.06001568e+00],\n",
       "        [-1.55473650e-01],\n",
       "        [-2.42102340e-01],\n",
       "        [-1.10729650e-01],\n",
       "        [-1.64272800e-01],\n",
       "        [-1.15547463e-01],\n",
       "        [ 1.96703404e-01],\n",
       "        [ 1.82153642e-01],\n",
       "        [ 2.73621492e-02],\n",
       "        [ 1.22125939e-01],\n",
       "        [ 2.71047413e-01],\n",
       "        [ 3.96951400e-02],\n",
       "        [ 2.25566611e-01],\n",
       "        [-6.66112229e-02],\n",
       "        [-1.50896162e-01],\n",
       "        [ 1.94699466e-01],\n",
       "        [ 9.39196572e-02],\n",
       "        [-2.70726472e-01],\n",
       "        [-7.89911225e-02],\n",
       "        [-2.71265149e-01],\n",
       "        [-9.28782374e-02],\n",
       "        [-5.13933077e-02],\n",
       "        [-6.12863004e-02],\n",
       "        [-3.01463008e-01],\n",
       "        [ 3.94192748e-02],\n",
       "        [-9.49837491e-02],\n",
       "        [-1.81953743e-01],\n",
       "        [ 1.75517410e-01],\n",
       "        [-1.47649556e-01],\n",
       "        [ 3.81329775e-01],\n",
       "        [-6.95514902e-02],\n",
       "        [-3.98446172e-01],\n",
       "        [-2.08598316e-01],\n",
       "        [ 2.90054202e-01],\n",
       "        [ 1.52795121e-01],\n",
       "        [-7.74798274e-01],\n",
       "        [ 4.29699272e-01],\n",
       "        [ 2.57033348e-01],\n",
       "        [ 2.25925725e-02],\n",
       "        [-6.34078085e-02],\n",
       "        [-1.82474792e-01],\n",
       "        [ 2.03143314e-01],\n",
       "        [ 1.40294909e-01],\n",
       "        [ 1.84450209e-01],\n",
       "        [-1.71523273e-01],\n",
       "        [ 1.82207018e-01],\n",
       "        [-1.74172491e-01],\n",
       "        [-9.02005374e-01],\n",
       "        [-1.33539939e+00],\n",
       "        [ 1.06122321e-03],\n",
       "        [-1.47794142e-01],\n",
       "        [-1.34761101e-02],\n",
       "        [-1.15771040e-01],\n",
       "        [-1.92720313e-02],\n",
       "        [-1.95066452e-01],\n",
       "        [-1.19816333e-01],\n",
       "        [ 3.27108800e-02],\n",
       "        [ 1.18952699e-01],\n",
       "        [ 3.14503461e-02],\n",
       "        [ 1.11211158e-01],\n",
       "        [ 2.54338115e-01],\n",
       "        [ 3.25615525e-01],\n",
       "        [ 1.14132035e+00],\n",
       "        [ 6.84139252e-01],\n",
       "        [ 9.01095644e-02],\n",
       "        [-4.27930430e-02],\n",
       "        [-6.74346313e-02],\n",
       "        [-1.34636730e-01],\n",
       "        [-1.84923008e-01],\n",
       "        [ 1.13048181e-01],\n",
       "        [-8.55066255e-02],\n",
       "        [ 8.79253522e-02],\n",
       "        [ 4.69137520e-01],\n",
       "        [ 5.13897873e-02],\n",
       "        [ 7.13555655e-03],\n",
       "        [ 2.07642198e-01],\n",
       "        [-7.74595857e-01],\n",
       "        [-1.34715080e-01],\n",
       "        [ 9.96430144e-02],\n",
       "        [ 1.04263470e-01],\n",
       "        [-1.76723868e-01],\n",
       "        [ 1.45229191e-01],\n",
       "        [ 5.63778840e-02],\n",
       "        [-2.51935363e-01],\n",
       "        [ 3.09056282e-01],\n",
       "        [ 5.43496534e-02],\n",
       "        [ 1.67471707e-01],\n",
       "        [-8.24663937e-02],\n",
       "        [-2.69965649e-01],\n",
       "        [-7.24381283e-02],\n",
       "        [ 7.67305344e-02],\n",
       "        [ 1.03082448e-01],\n",
       "        [ 2.83979565e-01],\n",
       "        [-1.10450916e-01],\n",
       "        [-1.68877259e-01],\n",
       "        [-1.73927117e-02],\n",
       "        [ 2.28399351e-01],\n",
       "        [-2.30161384e-01],\n",
       "        [ 6.90804422e-02],\n",
       "        [ 1.16451144e-01],\n",
       "        [ 5.61899506e-02],\n",
       "        [-1.17564058e+00],\n",
       "        [-2.05204226e-02],\n",
       "        [-1.21293493e-01],\n",
       "        [-4.79322411e-02],\n",
       "        [ 1.15840338e-01],\n",
       "        [ 4.12006974e-01],\n",
       "        [ 3.32580596e-01],\n",
       "        [ 1.35533884e-01],\n",
       "        [-9.79473218e-02],\n",
       "        [-7.22683907e-01],\n",
       "        [-3.12501609e-01]], dtype=float32),\n",
       " array([0.4898619], dtype=float32)]"
      ]
     },
     "execution_count": 20,
     "metadata": {},
     "output_type": "execute_result"
    }
   ],
   "source": [
    "model.get_weights()"
   ]
  },
  {
   "cell_type": "code",
   "execution_count": 21,
   "id": "53539937",
   "metadata": {},
   "outputs": [],
   "source": [
    "def decoded_review(encoded_review):\n",
    "    return \" \".join([reverse_word_index.get(i-3,\"?\") for i in encoded_review])\n",
    "\n",
    "def preprocess_text(text):\n",
    "    words = text.lower().split()\n",
    "    encoded_review = [word_index.get(word, 2) + 3 for word in words]\n",
    "    padded_review = sequence.pad_sequences([encoded_review], maxlen=500)\n",
    "    return padded_review\n"
   ]
  },
  {
   "cell_type": "code",
   "execution_count": 22,
   "id": "07c6477f",
   "metadata": {},
   "outputs": [],
   "source": [
    "## Prediction function\n",
    "\n",
    "def predict_sentiment(review):\n",
    "    preprocessed_input=preprocess_text(review)\n",
    "    prediction=model.predict(preprocessed_input)\n",
    "\n",
    "    sentiment=\"Positive\" if prediction[0][0] > 0.5 else \"Negative\"\n",
    "\n",
    "    return sentiment, prediction[0][0]"
   ]
  },
  {
   "cell_type": "code",
   "execution_count": 23,
   "id": "b7351172",
   "metadata": {},
   "outputs": [
    {
     "name": "stdout",
     "output_type": "stream",
     "text": [
      "\u001b[1m1/1\u001b[0m \u001b[32m━━━━━━━━━━━━━━━━━━━━\u001b[0m\u001b[37m\u001b[0m \u001b[1m0s\u001b[0m 267ms/step\n",
      "Review: This movie was fantastic! The acting was great and the plot was thrilling.\n",
      "Sentiment: Positive\n",
      "Predction Score: 0.7197365760803223\n"
     ]
    }
   ],
   "source": [
    "## User Input and Prediction\n",
    "example_review= \"This movie was fantastic! The acting was great and the plot was thrilling.\"\n",
    "\n",
    "sentiment, score=predict_sentiment(example_review)\n",
    "\n",
    "print(f\"Review: {example_review}\")\n",
    "print(f\"Sentiment: {sentiment}\")\n",
    "print(f\"Predction Score: {score}\")"
   ]
  },
  {
   "cell_type": "code",
   "execution_count": null,
   "id": "556bcffb",
   "metadata": {},
   "outputs": [],
   "source": []
  }
 ],
 "metadata": {
  "kernelspec": {
   "display_name": "Python 3",
   "language": "python",
   "name": "python3"
  },
  "language_info": {
   "codemirror_mode": {
    "name": "ipython",
    "version": 3
   },
   "file_extension": ".py",
   "mimetype": "text/x-python",
   "name": "python",
   "nbconvert_exporter": "python",
   "pygments_lexer": "ipython3",
   "version": "3.11.0"
  }
 },
 "nbformat": 4,
 "nbformat_minor": 5
}
